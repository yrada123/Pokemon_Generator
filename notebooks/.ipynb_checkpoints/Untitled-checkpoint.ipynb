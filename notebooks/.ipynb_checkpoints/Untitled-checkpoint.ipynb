{
 "cells": [
  {
   "cell_type": "code",
   "execution_count": 27,
   "id": "fe47c35a-64f8-4470-8537-6059de7a9001",
   "metadata": {},
   "outputs": [],
   "source": [
    "import sys\n",
    "import os\n",
    "base_dir = os.path.join(os.getcwd(),'../../Pokemon_Generator')\n",
    "sys.path.append(base_dir)\n",
    "import scripts.preprocess_data as proc"
   ]
  },
  {
   "cell_type": "code",
   "execution_count": 29,
   "id": "6dfdcba3-c0fc-43c4-a050-6802e141d851",
   "metadata": {},
   "outputs": [
    {
     "ename": "Exception",
     "evalue": "No data directory was found",
     "output_type": "error",
     "traceback": [
      "\u001b[1;31m---------------------------------------------------------------------------\u001b[0m",
      "\u001b[1;31mException\u001b[0m                                 Traceback (most recent call last)",
      "Cell \u001b[1;32mIn[29], line 1\u001b[0m\n\u001b[1;32m----> 1\u001b[0m proc\u001b[38;5;241m.\u001b[39mfind_data_dir()\n",
      "File \u001b[1;32m~\\Coding\\Python\\Pokemon_Generator\\notebooks\\../../Pokemon_Generator\\scripts\\preprocess_data.py:35\u001b[0m, in \u001b[0;36mfind_data_dir\u001b[1;34m(current_dir, max_dirs_up)\u001b[0m\n\u001b[0;32m     32\u001b[0m         \u001b[38;5;28;01mif\u001b[39;00m os\u001b[38;5;241m.\u001b[39mpath\u001b[38;5;241m.\u001b[39mbasename(d) \u001b[38;5;241m==\u001b[39m data_dir:\n\u001b[0;32m     33\u001b[0m             \u001b[38;5;28;01mreturn\u001b[39;00m os\u001b[38;5;241m.\u001b[39mpath\u001b[38;5;241m.\u001b[39mjoin(current_dir, d)\n\u001b[1;32m---> 35\u001b[0m \u001b[38;5;28;01mraise\u001b[39;00m \u001b[38;5;167;01mException\u001b[39;00m(\u001b[38;5;124m\"\u001b[39m\u001b[38;5;124mNo data directory was found\u001b[39m\u001b[38;5;124m\"\u001b[39m)\n",
      "\u001b[1;31mException\u001b[0m: No data directory was found"
     ]
    }
   ],
   "source": [
    "proc.find_data_dir()"
   ]
  }
 ],
 "metadata": {
  "kernelspec": {
   "display_name": "Python 3 (ipykernel)",
   "language": "python",
   "name": "python3"
  },
  "language_info": {
   "codemirror_mode": {
    "name": "ipython",
    "version": 3
   },
   "file_extension": ".py",
   "mimetype": "text/x-python",
   "name": "python",
   "nbconvert_exporter": "python",
   "pygments_lexer": "ipython3",
   "version": "3.11.7"
  }
 },
 "nbformat": 4,
 "nbformat_minor": 5
}

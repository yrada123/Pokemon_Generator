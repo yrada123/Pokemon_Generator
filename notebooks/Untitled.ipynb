{
 "cells": [
  {
   "cell_type": "code",
   "execution_count": 1,
   "id": "fe47c35a-64f8-4470-8537-6059de7a9001",
   "metadata": {},
   "outputs": [],
   "source": [
    "import sys\n",
    "import os\n",
    "base_dir = os.path.join(os.getcwd(),'../../Pokemon_Generator')\n",
    "sys.path.append(base_dir)\n",
    "import scripts.preprocess_data as proc"
   ]
  },
  {
   "cell_type": "code",
   "execution_count": 3,
   "id": "6dfdcba3-c0fc-43c4-a050-6802e141d851",
   "metadata": {},
   "outputs": [
    {
     "name": "stdout",
     "output_type": "stream",
     "text": [
      "C:\\Users\\yairr\\Coding\\Python\\Pokemon_Generator\\data\\orig_datasetalready exists, are you sure you want to override it? y/n\n"
     ]
    },
    {
     "name": "stdin",
     "output_type": "stream",
     "text": [
      " y\n"
     ]
    }
   ],
   "source": [
    "proc.copy_original_images_to_dir()"
   ]
  },
  {
   "cell_type": "code",
   "execution_count": null,
   "id": "a632fb97-f8ce-4392-87f8-140c5ecc2190",
   "metadata": {},
   "outputs": [],
   "source": []
  }
 ],
 "metadata": {
  "kernelspec": {
   "display_name": "Python 3 (ipykernel)",
   "language": "python",
   "name": "python3"
  },
  "language_info": {
   "codemirror_mode": {
    "name": "ipython",
    "version": 3
   },
   "file_extension": ".py",
   "mimetype": "text/x-python",
   "name": "python",
   "nbconvert_exporter": "python",
   "pygments_lexer": "ipython3",
   "version": "3.11.7"
  }
 },
 "nbformat": 4,
 "nbformat_minor": 5
}
